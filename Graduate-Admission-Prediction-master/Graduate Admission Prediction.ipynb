{
 "cells": [
  {
   "cell_type": "markdown",
   "metadata": {},
   "source": [
    "<h1 align='center' style='color:purple'>Predict Graduate Admissions</h1>"
   ]
  },
  {
   "cell_type": "markdown",
   "metadata": {},
   "source": [
    "<h3 align='left' style='color:blue'>Sinivasa V</h3>"
   ]
  },
  {
   "cell_type": "markdown",
   "metadata": {
    "_uuid": "6d001fc4fd7b0a30c025daee2633a95ca9bfc41d"
   },
   "source": [
    "# Predict Graduate Admissions\n",
    "\n",
    "**Probelm Statement**\n",
    "This dataset is created for prediction of Graduate Admissions from an Indian perspective.\n",
    "\n",
    "**Content**\n",
    "The dataset contains several parameters which are considered important during the application for Masters Programs. The parameters included are : \n",
    " \n",
    "1. GRE Scores ( out of 340 ) \n",
    "2. TOEFL Scores ( out of 120 ) \n",
    "3. University Rating ( out of 5 ) \n",
    "4. Statement of Purpose and Letter of Recommendation Strength ( out of 5 ) \n",
    "5. Undergraduate GPA ( out of 10 ) \n",
    "6. Research Experience ( either 0 or 1 ) \n",
    "7. Chance of Admit ( ranging from 0 to 1 ) is the Target Variable\n",
    "\n",
    "**Models**\n",
    "\n",
    "1. Logistic Regression \n",
    "2. Random Forest \n",
    "3. Support Vector Machine \n",
    "\n",
    "This Model will help Beginners as well Intermediate ML Practitioners models will be introduced. Also measure the accuracy of models that are built by using Machine Learning, and further development will be assessed."
   ]
  },
  {
   "cell_type": "markdown",
   "metadata": {
    "_cell_guid": "b1076dfc-b9ad-4769-8c92-a6c4dae69d19",
    "_uuid": "8f2839f25d086af736a60e9eeb907d3b93b6e0e5"
   },
   "source": [
    "### 1. Load the Data and Analysis of Variables"
   ]
  },
  {
   "cell_type": "code",
   "execution_count": 1,
   "metadata": {},
   "outputs": [],
   "source": [
    "## Load the Libraries \n",
    "\n",
    "import numpy as np\n",
    "import pandas as pd"
   ]
  },
  {
   "cell_type": "code",
   "execution_count": 2,
   "metadata": {
    "_cell_guid": "79c7e3d0-c299-4dcb-8224-4455121ee9b0",
    "_kg_hide-input": false,
    "_kg_hide-output": false,
    "_uuid": "d629ff2d2480ee46fbb7e2d37f6b5fab8052498a"
   },
   "outputs": [
    {
     "name": "stdout",
     "output_type": "stream",
     "text": [
      "Column names:\n",
      "['Serial No.', 'GRE Score', 'TOEFL Score', 'University Rating', 'SOP', 'LOR ', 'CGPA', 'Research', 'Chance of Admit ']\n",
      "\n",
      "Sample Data:\n",
      "   Serial No.  GRE Score  TOEFL Score  University Rating  SOP  LOR   CGPA  \\\n",
      "0           1        337          118                  4  4.5   4.5  9.65   \n",
      "1           2        324          107                  4  4.0   4.5  8.87   \n",
      "2           3        316          104                  3  3.0   3.5  8.00   \n",
      "3           4        322          110                  3  3.5   2.5  8.67   \n",
      "4           5        314          103                  2  2.0   3.0  8.21   \n",
      "\n",
      "   Research  Chance of Admit   \n",
      "0         1              0.92  \n",
      "1         1              0.76  \n",
      "2         1              0.72  \n",
      "3         1              0.80  \n",
      "4         0              0.65  \n"
     ]
    }
   ],
   "source": [
    "# Read the Data and check the Column Names to check the Space in the Names\n",
    "df=pd.read_csv(\"Admission_Predict_Ver1.1.csv\")\n",
    "col_names=df.columns.tolist()\n",
    "print(\"Column names:\")\n",
    "print(col_names)\n",
    "print(\"\\nSample Data:\")\n",
    "print(df.head())\n"
   ]
  },
  {
   "cell_type": "markdown",
   "metadata": {},
   "source": [
    "**---->**\n",
    "1. As we said there were Space in Chance of Admit Variable\n",
    "2. Serial No has Full stop Sign name it as no\n",
    "3. Change the other variable into lowercase for easy to use "
   ]
  },
  {
   "cell_type": "markdown",
   "metadata": {
    "_uuid": "f69d138dc60183c643a341f5934884adca631b70"
   },
   "source": [
    "**Rename columns to make their use easier.**"
   ]
  },
  {
   "cell_type": "code",
   "execution_count": 3,
   "metadata": {
    "_uuid": "d0ba310bf425e8532ad161bad46652c1f3adf23d"
   },
   "outputs": [],
   "source": [
    "df=df.rename(columns={'Serial No.':'no','GRE Score':'gre','TOEFL Score':'toefl','University Rating':'rating','SOP':'sop','LOR ':'lor',\n",
    "                           'CGPA':'gpa','Research':'research','Chance of Admit ':'chance'})"
   ]
  },
  {
   "cell_type": "markdown",
   "metadata": {
    "_uuid": "bd3262de62a0c5cd7b54ea64c08d3e421aa12fb5"
   },
   "source": [
    "**The type of columns can be found as follows:**"
   ]
  },
  {
   "cell_type": "code",
   "execution_count": 4,
   "metadata": {
    "_uuid": "df30b69b526b959b17cf992f7c80222ad5958756"
   },
   "outputs": [
    {
     "data": {
      "text/plain": [
       "no            int64\n",
       "gre           int64\n",
       "toefl         int64\n",
       "rating        int64\n",
       "sop         float64\n",
       "lor         float64\n",
       "gpa         float64\n",
       "research      int64\n",
       "chance      float64\n",
       "dtype: object"
      ]
     },
     "execution_count": 4,
     "metadata": {},
     "output_type": "execute_result"
    }
   ],
   "source": [
    "df.dtypes"
   ]
  },
  {
   "cell_type": "markdown",
   "metadata": {
    "_uuid": "cd25e81cd5edb75b8c134a330524b26e862a9c76"
   },
   "source": [
    "**Check shape of the data and whether there exist missing values:**"
   ]
  },
  {
   "cell_type": "code",
   "execution_count": 5,
   "metadata": {
    "_uuid": "cdc593ecdb6a492932e402189d0ab0fdf6ffa42d"
   },
   "outputs": [
    {
     "name": "stdout",
     "output_type": "stream",
     "text": [
      "Shape of the data:\n"
     ]
    },
    {
     "data": {
      "text/plain": [
       "(500, 9)"
      ]
     },
     "execution_count": 5,
     "metadata": {},
     "output_type": "execute_result"
    }
   ],
   "source": [
    "print('Shape of the data:')\n",
    "df.shape"
   ]
  },
  {
   "cell_type": "code",
   "execution_count": 6,
   "metadata": {
    "_uuid": "4b2b321293b8d4f2cafcee9f17d3db93c47f55bb"
   },
   "outputs": [
    {
     "name": "stdout",
     "output_type": "stream",
     "text": [
      "Missing values in columns:\n"
     ]
    },
    {
     "data": {
      "text/plain": [
       "no          0\n",
       "gre         0\n",
       "toefl       0\n",
       "rating      0\n",
       "sop         0\n",
       "lor         0\n",
       "gpa         0\n",
       "research    0\n",
       "chance      0\n",
       "dtype: int64"
      ]
     },
     "execution_count": 6,
     "metadata": {},
     "output_type": "execute_result"
    }
   ],
   "source": [
    "print('Missing values in columns:')\n",
    "df.isnull().sum()"
   ]
  },
  {
   "cell_type": "markdown",
   "metadata": {
    "_uuid": "bf9bc7f72f175131dfe7509f3a77436a23172ae2"
   },
   "source": [
    "**Fortunately, data has no missing values**\n",
    "\n",
    "The \"chance\" column is the outcome variable and takes value between 0 and 1. 1 represents that the subject is admitted to the program while 0 represents rejected applications.\n",
    "Problem can be classified as a binary classification problem where outcome probability refers to the probability of subject being admitted to the program. Since only chance of admission is provided, \n",
    "the analysis will continue as a prediction analysis of chance of admission.\n",
    "\n",
    "# Data Exploration\n",
    "\n",
    "First of all, let us see the basic statistics of the data.\n"
   ]
  },
  {
   "cell_type": "code",
   "execution_count": 7,
   "metadata": {
    "_uuid": "0d6447547a27b19827c52bf46aefb4ef11f37d53"
   },
   "outputs": [
    {
     "data": {
      "text/html": [
       "<div>\n",
       "<style scoped>\n",
       "    .dataframe tbody tr th:only-of-type {\n",
       "        vertical-align: middle;\n",
       "    }\n",
       "\n",
       "    .dataframe tbody tr th {\n",
       "        vertical-align: top;\n",
       "    }\n",
       "\n",
       "    .dataframe thead th {\n",
       "        text-align: right;\n",
       "    }\n",
       "</style>\n",
       "<table border=\"1\" class=\"dataframe\">\n",
       "  <thead>\n",
       "    <tr style=\"text-align: right;\">\n",
       "      <th></th>\n",
       "      <th>no</th>\n",
       "      <th>gre</th>\n",
       "      <th>toefl</th>\n",
       "      <th>rating</th>\n",
       "      <th>sop</th>\n",
       "      <th>lor</th>\n",
       "      <th>gpa</th>\n",
       "      <th>research</th>\n",
       "      <th>chance</th>\n",
       "    </tr>\n",
       "  </thead>\n",
       "  <tbody>\n",
       "    <tr>\n",
       "      <th>count</th>\n",
       "      <td>500.000000</td>\n",
       "      <td>500.000000</td>\n",
       "      <td>500.000000</td>\n",
       "      <td>500.000000</td>\n",
       "      <td>500.000000</td>\n",
       "      <td>500.00000</td>\n",
       "      <td>500.000000</td>\n",
       "      <td>500.000000</td>\n",
       "      <td>500.00000</td>\n",
       "    </tr>\n",
       "    <tr>\n",
       "      <th>mean</th>\n",
       "      <td>250.500000</td>\n",
       "      <td>316.472000</td>\n",
       "      <td>107.192000</td>\n",
       "      <td>3.114000</td>\n",
       "      <td>3.374000</td>\n",
       "      <td>3.48400</td>\n",
       "      <td>8.576440</td>\n",
       "      <td>0.560000</td>\n",
       "      <td>0.72174</td>\n",
       "    </tr>\n",
       "    <tr>\n",
       "      <th>std</th>\n",
       "      <td>144.481833</td>\n",
       "      <td>11.295148</td>\n",
       "      <td>6.081868</td>\n",
       "      <td>1.143512</td>\n",
       "      <td>0.991004</td>\n",
       "      <td>0.92545</td>\n",
       "      <td>0.604813</td>\n",
       "      <td>0.496884</td>\n",
       "      <td>0.14114</td>\n",
       "    </tr>\n",
       "    <tr>\n",
       "      <th>min</th>\n",
       "      <td>1.000000</td>\n",
       "      <td>290.000000</td>\n",
       "      <td>92.000000</td>\n",
       "      <td>1.000000</td>\n",
       "      <td>1.000000</td>\n",
       "      <td>1.00000</td>\n",
       "      <td>6.800000</td>\n",
       "      <td>0.000000</td>\n",
       "      <td>0.34000</td>\n",
       "    </tr>\n",
       "    <tr>\n",
       "      <th>25%</th>\n",
       "      <td>125.750000</td>\n",
       "      <td>308.000000</td>\n",
       "      <td>103.000000</td>\n",
       "      <td>2.000000</td>\n",
       "      <td>2.500000</td>\n",
       "      <td>3.00000</td>\n",
       "      <td>8.127500</td>\n",
       "      <td>0.000000</td>\n",
       "      <td>0.63000</td>\n",
       "    </tr>\n",
       "    <tr>\n",
       "      <th>50%</th>\n",
       "      <td>250.500000</td>\n",
       "      <td>317.000000</td>\n",
       "      <td>107.000000</td>\n",
       "      <td>3.000000</td>\n",
       "      <td>3.500000</td>\n",
       "      <td>3.50000</td>\n",
       "      <td>8.560000</td>\n",
       "      <td>1.000000</td>\n",
       "      <td>0.72000</td>\n",
       "    </tr>\n",
       "    <tr>\n",
       "      <th>75%</th>\n",
       "      <td>375.250000</td>\n",
       "      <td>325.000000</td>\n",
       "      <td>112.000000</td>\n",
       "      <td>4.000000</td>\n",
       "      <td>4.000000</td>\n",
       "      <td>4.00000</td>\n",
       "      <td>9.040000</td>\n",
       "      <td>1.000000</td>\n",
       "      <td>0.82000</td>\n",
       "    </tr>\n",
       "    <tr>\n",
       "      <th>max</th>\n",
       "      <td>500.000000</td>\n",
       "      <td>340.000000</td>\n",
       "      <td>120.000000</td>\n",
       "      <td>5.000000</td>\n",
       "      <td>5.000000</td>\n",
       "      <td>5.00000</td>\n",
       "      <td>9.920000</td>\n",
       "      <td>1.000000</td>\n",
       "      <td>0.97000</td>\n",
       "    </tr>\n",
       "  </tbody>\n",
       "</table>\n",
       "</div>"
      ],
      "text/plain": [
       "               no         gre       toefl      rating         sop        lor  \\\n",
       "count  500.000000  500.000000  500.000000  500.000000  500.000000  500.00000   \n",
       "mean   250.500000  316.472000  107.192000    3.114000    3.374000    3.48400   \n",
       "std    144.481833   11.295148    6.081868    1.143512    0.991004    0.92545   \n",
       "min      1.000000  290.000000   92.000000    1.000000    1.000000    1.00000   \n",
       "25%    125.750000  308.000000  103.000000    2.000000    2.500000    3.00000   \n",
       "50%    250.500000  317.000000  107.000000    3.000000    3.500000    3.50000   \n",
       "75%    375.250000  325.000000  112.000000    4.000000    4.000000    4.00000   \n",
       "max    500.000000  340.000000  120.000000    5.000000    5.000000    5.00000   \n",
       "\n",
       "              gpa    research     chance  \n",
       "count  500.000000  500.000000  500.00000  \n",
       "mean     8.576440    0.560000    0.72174  \n",
       "std      0.604813    0.496884    0.14114  \n",
       "min      6.800000    0.000000    0.34000  \n",
       "25%      8.127500    0.000000    0.63000  \n",
       "50%      8.560000    1.000000    0.72000  \n",
       "75%      9.040000    1.000000    0.82000  \n",
       "max      9.920000    1.000000    0.97000  "
      ]
     },
     "execution_count": 7,
     "metadata": {},
     "output_type": "execute_result"
    }
   ],
   "source": [
    "df.describe()"
   ]
  },
  {
   "cell_type": "markdown",
   "metadata": {
    "_uuid": "d3e2db9dd159468ecaa1bc42e819fc1085166bda"
   },
   "source": [
    "\n",
    "This shows some descriptive statistics on the data set. Notice, it only shows the statistics on the numerical columns. From here you can see the following statistics:\n",
    "\n",
    "Row count, which aligns to what the shape attribute showed us.\n",
    "\n",
    "* The mean, or average.\n",
    "* 50% aka Median it is very import to understand Skeweness of the Data \n",
    "* The standard deviation, or how spread out the data is.\n",
    "* The minimum and maximum value of each column\n",
    "* The number of items that fall within the first, second, and third percentiles.\n",
    "\n",
    "Second, let us analyze the distribution of subjects' chance of admit in the data. Let us see how rating affects chance of admission:"
   ]
  },
  {
   "cell_type": "code",
   "execution_count": 8,
   "metadata": {
    "_uuid": "a4681461ef6fef4962818c6f490f804e74494aff"
   },
   "outputs": [
    {
     "data": {
      "text/html": [
       "<div>\n",
       "<style scoped>\n",
       "    .dataframe tbody tr th:only-of-type {\n",
       "        vertical-align: middle;\n",
       "    }\n",
       "\n",
       "    .dataframe tbody tr th {\n",
       "        vertical-align: top;\n",
       "    }\n",
       "\n",
       "    .dataframe thead th {\n",
       "        text-align: right;\n",
       "    }\n",
       "</style>\n",
       "<table border=\"1\" class=\"dataframe\">\n",
       "  <thead>\n",
       "    <tr style=\"text-align: right;\">\n",
       "      <th></th>\n",
       "      <th>no</th>\n",
       "      <th>gre</th>\n",
       "      <th>toefl</th>\n",
       "      <th>sop</th>\n",
       "      <th>lor</th>\n",
       "      <th>gpa</th>\n",
       "      <th>research</th>\n",
       "      <th>chance</th>\n",
       "    </tr>\n",
       "    <tr>\n",
       "      <th>rating</th>\n",
       "      <th></th>\n",
       "      <th></th>\n",
       "      <th></th>\n",
       "      <th></th>\n",
       "      <th></th>\n",
       "      <th></th>\n",
       "      <th></th>\n",
       "      <th></th>\n",
       "    </tr>\n",
       "  </thead>\n",
       "  <tbody>\n",
       "    <tr>\n",
       "      <th>1</th>\n",
       "      <td>281.558824</td>\n",
       "      <td>304.911765</td>\n",
       "      <td>100.205882</td>\n",
       "      <td>1.941176</td>\n",
       "      <td>2.426471</td>\n",
       "      <td>7.798529</td>\n",
       "      <td>0.294118</td>\n",
       "      <td>0.562059</td>\n",
       "    </tr>\n",
       "    <tr>\n",
       "      <th>2</th>\n",
       "      <td>249.555556</td>\n",
       "      <td>309.134921</td>\n",
       "      <td>103.444444</td>\n",
       "      <td>2.682540</td>\n",
       "      <td>2.956349</td>\n",
       "      <td>8.177778</td>\n",
       "      <td>0.293651</td>\n",
       "      <td>0.626111</td>\n",
       "    </tr>\n",
       "    <tr>\n",
       "      <th>3</th>\n",
       "      <td>247.574074</td>\n",
       "      <td>315.030864</td>\n",
       "      <td>106.314815</td>\n",
       "      <td>3.308642</td>\n",
       "      <td>3.401235</td>\n",
       "      <td>8.500123</td>\n",
       "      <td>0.537037</td>\n",
       "      <td>0.702901</td>\n",
       "    </tr>\n",
       "    <tr>\n",
       "      <th>4</th>\n",
       "      <td>275.809524</td>\n",
       "      <td>323.304762</td>\n",
       "      <td>110.961905</td>\n",
       "      <td>4.000000</td>\n",
       "      <td>3.947619</td>\n",
       "      <td>8.936667</td>\n",
       "      <td>0.780952</td>\n",
       "      <td>0.801619</td>\n",
       "    </tr>\n",
       "    <tr>\n",
       "      <th>5</th>\n",
       "      <td>207.753425</td>\n",
       "      <td>327.890411</td>\n",
       "      <td>113.438356</td>\n",
       "      <td>4.479452</td>\n",
       "      <td>4.404110</td>\n",
       "      <td>9.278082</td>\n",
       "      <td>0.876712</td>\n",
       "      <td>0.888082</td>\n",
       "    </tr>\n",
       "  </tbody>\n",
       "</table>\n",
       "</div>"
      ],
      "text/plain": [
       "                no         gre       toefl       sop       lor       gpa  \\\n",
       "rating                                                                     \n",
       "1       281.558824  304.911765  100.205882  1.941176  2.426471  7.798529   \n",
       "2       249.555556  309.134921  103.444444  2.682540  2.956349  8.177778   \n",
       "3       247.574074  315.030864  106.314815  3.308642  3.401235  8.500123   \n",
       "4       275.809524  323.304762  110.961905  4.000000  3.947619  8.936667   \n",
       "5       207.753425  327.890411  113.438356  4.479452  4.404110  9.278082   \n",
       "\n",
       "        research    chance  \n",
       "rating                      \n",
       "1       0.294118  0.562059  \n",
       "2       0.293651  0.626111  \n",
       "3       0.537037  0.702901  \n",
       "4       0.780952  0.801619  \n",
       "5       0.876712  0.888082  "
      ]
     },
     "execution_count": 8,
     "metadata": {},
     "output_type": "execute_result"
    }
   ],
   "source": [
    "df.groupby('rating').mean()"
   ]
  },
  {
   "cell_type": "markdown",
   "metadata": {
    "_uuid": "9adf650961adca7ab56fe0c1f4a008284bfa6238"
   },
   "source": [
    "Average chance of admission of subjects which applied to program with rating 1 is less than that of the subjects which applied to program with higher ratings.\n",
    "Now let us analyze the subjects with more than 82% of chance which is the third quartile of the chance data."
   ]
  },
  {
   "cell_type": "code",
   "execution_count": 9,
   "metadata": {
    "_uuid": "884183245bc463f15ba77c26b09a4441c4eccae3"
   },
   "outputs": [
    {
     "data": {
      "text/html": [
       "<div>\n",
       "<style scoped>\n",
       "    .dataframe tbody tr th:only-of-type {\n",
       "        vertical-align: middle;\n",
       "    }\n",
       "\n",
       "    .dataframe tbody tr th {\n",
       "        vertical-align: top;\n",
       "    }\n",
       "\n",
       "    .dataframe thead th {\n",
       "        text-align: right;\n",
       "    }\n",
       "</style>\n",
       "<table border=\"1\" class=\"dataframe\">\n",
       "  <thead>\n",
       "    <tr style=\"text-align: right;\">\n",
       "      <th></th>\n",
       "      <th>no</th>\n",
       "      <th>gre</th>\n",
       "      <th>toefl</th>\n",
       "      <th>rating</th>\n",
       "      <th>sop</th>\n",
       "      <th>lor</th>\n",
       "      <th>gpa</th>\n",
       "      <th>research</th>\n",
       "    </tr>\n",
       "    <tr>\n",
       "      <th>chance</th>\n",
       "      <th></th>\n",
       "      <th></th>\n",
       "      <th></th>\n",
       "      <th></th>\n",
       "      <th></th>\n",
       "      <th></th>\n",
       "      <th></th>\n",
       "      <th></th>\n",
       "    </tr>\n",
       "  </thead>\n",
       "  <tbody>\n",
       "    <tr>\n",
       "      <th>0.83</th>\n",
       "      <td>309.000000</td>\n",
       "      <td>326.500000</td>\n",
       "      <td>112.750000</td>\n",
       "      <td>3.750000</td>\n",
       "      <td>3.875000</td>\n",
       "      <td>3.750000</td>\n",
       "      <td>9.032500</td>\n",
       "      <td>0.750000</td>\n",
       "    </tr>\n",
       "    <tr>\n",
       "      <th>0.84</th>\n",
       "      <td>255.636364</td>\n",
       "      <td>323.909091</td>\n",
       "      <td>109.636364</td>\n",
       "      <td>3.454545</td>\n",
       "      <td>3.818182</td>\n",
       "      <td>3.772727</td>\n",
       "      <td>9.032727</td>\n",
       "      <td>0.909091</td>\n",
       "    </tr>\n",
       "    <tr>\n",
       "      <th>0.85</th>\n",
       "      <td>229.000000</td>\n",
       "      <td>322.000000</td>\n",
       "      <td>111.500000</td>\n",
       "      <td>3.666667</td>\n",
       "      <td>4.083333</td>\n",
       "      <td>4.166667</td>\n",
       "      <td>9.041667</td>\n",
       "      <td>0.833333</td>\n",
       "    </tr>\n",
       "    <tr>\n",
       "      <th>0.86</th>\n",
       "      <td>246.900000</td>\n",
       "      <td>325.400000</td>\n",
       "      <td>114.400000</td>\n",
       "      <td>4.200000</td>\n",
       "      <td>4.300000</td>\n",
       "      <td>4.300000</td>\n",
       "      <td>9.124000</td>\n",
       "      <td>0.900000</td>\n",
       "    </tr>\n",
       "    <tr>\n",
       "      <th>0.87</th>\n",
       "      <td>273.750000</td>\n",
       "      <td>325.625000</td>\n",
       "      <td>111.125000</td>\n",
       "      <td>4.625000</td>\n",
       "      <td>4.375000</td>\n",
       "      <td>4.187500</td>\n",
       "      <td>9.101250</td>\n",
       "      <td>0.875000</td>\n",
       "    </tr>\n",
       "    <tr>\n",
       "      <th>0.88</th>\n",
       "      <td>127.000000</td>\n",
       "      <td>323.000000</td>\n",
       "      <td>110.750000</td>\n",
       "      <td>5.000000</td>\n",
       "      <td>4.875000</td>\n",
       "      <td>4.500000</td>\n",
       "      <td>9.152500</td>\n",
       "      <td>1.000000</td>\n",
       "    </tr>\n",
       "    <tr>\n",
       "      <th>0.89</th>\n",
       "      <td>269.000000</td>\n",
       "      <td>328.636364</td>\n",
       "      <td>113.545455</td>\n",
       "      <td>4.363636</td>\n",
       "      <td>4.318182</td>\n",
       "      <td>4.136364</td>\n",
       "      <td>9.270909</td>\n",
       "      <td>0.909091</td>\n",
       "    </tr>\n",
       "    <tr>\n",
       "      <th>0.90</th>\n",
       "      <td>186.777778</td>\n",
       "      <td>330.555556</td>\n",
       "      <td>116.111111</td>\n",
       "      <td>4.000000</td>\n",
       "      <td>4.500000</td>\n",
       "      <td>4.111111</td>\n",
       "      <td>9.324444</td>\n",
       "      <td>1.000000</td>\n",
       "    </tr>\n",
       "    <tr>\n",
       "      <th>0.91</th>\n",
       "      <td>267.400000</td>\n",
       "      <td>330.500000</td>\n",
       "      <td>115.000000</td>\n",
       "      <td>4.500000</td>\n",
       "      <td>4.250000</td>\n",
       "      <td>4.450000</td>\n",
       "      <td>9.328000</td>\n",
       "      <td>1.000000</td>\n",
       "    </tr>\n",
       "    <tr>\n",
       "      <th>0.92</th>\n",
       "      <td>226.888889</td>\n",
       "      <td>328.555556</td>\n",
       "      <td>114.888889</td>\n",
       "      <td>4.777778</td>\n",
       "      <td>4.388889</td>\n",
       "      <td>4.500000</td>\n",
       "      <td>9.417778</td>\n",
       "      <td>1.000000</td>\n",
       "    </tr>\n",
       "    <tr>\n",
       "      <th>0.93</th>\n",
       "      <td>268.833333</td>\n",
       "      <td>330.583333</td>\n",
       "      <td>115.916667</td>\n",
       "      <td>4.583333</td>\n",
       "      <td>4.583333</td>\n",
       "      <td>4.250000</td>\n",
       "      <td>9.477500</td>\n",
       "      <td>1.000000</td>\n",
       "    </tr>\n",
       "    <tr>\n",
       "      <th>0.94</th>\n",
       "      <td>160.846154</td>\n",
       "      <td>334.230769</td>\n",
       "      <td>116.692308</td>\n",
       "      <td>4.846154</td>\n",
       "      <td>4.692308</td>\n",
       "      <td>4.846154</td>\n",
       "      <td>9.533077</td>\n",
       "      <td>1.000000</td>\n",
       "    </tr>\n",
       "    <tr>\n",
       "      <th>0.95</th>\n",
       "      <td>288.000000</td>\n",
       "      <td>336.200000</td>\n",
       "      <td>118.000000</td>\n",
       "      <td>4.400000</td>\n",
       "      <td>4.900000</td>\n",
       "      <td>4.400000</td>\n",
       "      <td>9.540000</td>\n",
       "      <td>1.000000</td>\n",
       "    </tr>\n",
       "    <tr>\n",
       "      <th>0.96</th>\n",
       "      <td>239.500000</td>\n",
       "      <td>337.375000</td>\n",
       "      <td>116.000000</td>\n",
       "      <td>4.625000</td>\n",
       "      <td>4.750000</td>\n",
       "      <td>4.687500</td>\n",
       "      <td>9.753750</td>\n",
       "      <td>1.000000</td>\n",
       "    </tr>\n",
       "    <tr>\n",
       "      <th>0.97</th>\n",
       "      <td>144.000000</td>\n",
       "      <td>337.500000</td>\n",
       "      <td>119.750000</td>\n",
       "      <td>4.750000</td>\n",
       "      <td>4.250000</td>\n",
       "      <td>4.250000</td>\n",
       "      <td>9.875000</td>\n",
       "      <td>1.000000</td>\n",
       "    </tr>\n",
       "  </tbody>\n",
       "</table>\n",
       "</div>"
      ],
      "text/plain": [
       "                no         gre       toefl    rating       sop       lor  \\\n",
       "chance                                                                     \n",
       "0.83    309.000000  326.500000  112.750000  3.750000  3.875000  3.750000   \n",
       "0.84    255.636364  323.909091  109.636364  3.454545  3.818182  3.772727   \n",
       "0.85    229.000000  322.000000  111.500000  3.666667  4.083333  4.166667   \n",
       "0.86    246.900000  325.400000  114.400000  4.200000  4.300000  4.300000   \n",
       "0.87    273.750000  325.625000  111.125000  4.625000  4.375000  4.187500   \n",
       "0.88    127.000000  323.000000  110.750000  5.000000  4.875000  4.500000   \n",
       "0.89    269.000000  328.636364  113.545455  4.363636  4.318182  4.136364   \n",
       "0.90    186.777778  330.555556  116.111111  4.000000  4.500000  4.111111   \n",
       "0.91    267.400000  330.500000  115.000000  4.500000  4.250000  4.450000   \n",
       "0.92    226.888889  328.555556  114.888889  4.777778  4.388889  4.500000   \n",
       "0.93    268.833333  330.583333  115.916667  4.583333  4.583333  4.250000   \n",
       "0.94    160.846154  334.230769  116.692308  4.846154  4.692308  4.846154   \n",
       "0.95    288.000000  336.200000  118.000000  4.400000  4.900000  4.400000   \n",
       "0.96    239.500000  337.375000  116.000000  4.625000  4.750000  4.687500   \n",
       "0.97    144.000000  337.500000  119.750000  4.750000  4.250000  4.250000   \n",
       "\n",
       "             gpa  research  \n",
       "chance                      \n",
       "0.83    9.032500  0.750000  \n",
       "0.84    9.032727  0.909091  \n",
       "0.85    9.041667  0.833333  \n",
       "0.86    9.124000  0.900000  \n",
       "0.87    9.101250  0.875000  \n",
       "0.88    9.152500  1.000000  \n",
       "0.89    9.270909  0.909091  \n",
       "0.90    9.324444  1.000000  \n",
       "0.91    9.328000  1.000000  \n",
       "0.92    9.417778  1.000000  \n",
       "0.93    9.477500  1.000000  \n",
       "0.94    9.533077  1.000000  \n",
       "0.95    9.540000  1.000000  \n",
       "0.96    9.753750  1.000000  \n",
       "0.97    9.875000  1.000000  "
      ]
     },
     "execution_count": 9,
     "metadata": {},
     "output_type": "execute_result"
    }
   ],
   "source": [
    "df[df['chance']>0.82].groupby('chance').mean()"
   ]
  },
  {
   "cell_type": "markdown",
   "metadata": {
    "_uuid": "44ce7015b2e17cd5fba778ef101aa726996c82a9"
   },
   "source": [
    "## *Several observations:*\n",
    "\n",
    "* Average GPAs of those with higher level of chance to admit is greater than 9 where the data average is 8.57.\n",
    "* Average LOR, SOP, GRE and TOEFL grades of those with higher level of chance to admit is greater than the data average.\n",
    "* Research Shows us 75% Research Experience so there may be chances to Reject the Application in the next we take more than 83%\n",
    "\n",
    "# Data Visualization\n",
    "\n",
    "## Histogram of Admission Chance\n",
    "\n",
    "Let us visualize our data to get a much clearer picture of the data and the significant features.\n"
   ]
  },
  {
   "cell_type": "code",
   "execution_count": 10,
   "metadata": {
    "_uuid": "1ac8911d1005631405340e5de5a2b1e7129bb5f9"
   },
   "outputs": [
    {
     "data": {
      "text/plain": [
       "<Figure size 600x400 with 1 Axes>"
      ]
     },
     "metadata": {},
     "output_type": "display_data"
    }
   ],
   "source": [
    "import matplotlib.pyplot as plt\n",
    "plt.figure(figsize=(6,4))\n",
    "plt.hist(df['chance'],bins=10,color=\"orange\")\n",
    "plt.title('Histogram of Admission Chance')\n",
    "plt.xlabel('Admission Chance')\n",
    "plt.ylabel('Frequency of Chance')\n",
    "plt.show()"
   ]
  },
  {
   "cell_type": "markdown",
   "metadata": {
    "_uuid": "5d4bb104a08c93b6fcc00f7940b12eeb9233cefa"
   },
   "source": [
    "Histogram shows us that 'chance of admission' column is well distributed in data.\n",
    "\n",
    "## Line Plot for Research Output and The Chance of Admission"
   ]
  },
  {
   "cell_type": "code",
   "execution_count": 11,
   "metadata": {
    "_uuid": "c51d94b47616d72be06df6044f60d3cc4facac02"
   },
   "outputs": [
    {
     "data": {
      "image/png": "[encoded data removed]",
      "text/plain": [
       "<Figure size 864x576 with 1 Axes>"
      ]
     },
     "metadata": {},
     "output_type": "display_data"
    }
   ],
   "source": [
    "plt.figure(figsize=(12,8))\n",
    "plt.plot(range(len(df[df['research']==1])), df[df['research']==1]['chance'], color='orange')\n",
    "plt.plot(range(len(df[df['research']==0])), df[df['research']==0]['chance'], color='olive')\n",
    "plt.show()"
   ]
  },
  {
   "cell_type": "markdown",
   "metadata": {
    "_uuid": "1abe62940bbeb34f133c27d20f3812bc39a00414"
   },
   "source": [
    "The chance of admission depends a great deal on the subjects' research output; hence, research can be a good predictor in predicting the outcome.\n",
    "\n",
    "## Scatter Plot of University Rating and The Chance of Admission"
   ]
  },
  {
   "cell_type": "code",
   "execution_count": 12,
   "metadata": {
    "_uuid": "71e57b7079f93c62e73851a4408ff0db7ddd78c6"
   },
   "outputs": [
    {
     "data": {
      "image/png": "[encoded data removed]",
      "text/plain": [
       "<Figure size 864x576 with 1 Axes>"
      ]
     },
     "metadata": {},
     "output_type": "display_data"
    }
   ],
   "source": [
    "df.boxplot(column='chance',by='rating',grid=False,figsize=(12,8))\n",
    "plt.title('The Chance of Admission for University Ratings')\n",
    "plt.xlabel('University Rating')\n",
    "plt.ylabel('Chance of Admission')\n",
    "plt.show()"
   ]
  },
  {
   "cell_type": "markdown",
   "metadata": {
    "_uuid": "b59ae9bd83635b5f59ec30bbaeac41f8bdcd8c18"
   },
   "source": [
    "As it can be seen from the boxplot chart, chance of admission is higher within the applicants of lower rated (5) universities.\n",
    "\n",
    "## Histogram of Numeric Variables"
   ]
  },
  {
   "cell_type": "code",
   "execution_count": 13,
   "metadata": {
    "_uuid": "5b0155e850bf86e96f6e003d391c796bcbe18a9b"
   },
   "outputs": [
    {
     "data": {
      "image/png": "[encoded data removed]",
      "text/plain": [
       "<Figure size 1440x1080 with 9 Axes>"
      ]
     },
     "metadata": {},
     "output_type": "display_data"
    }
   ],
   "source": [
    "df.hist(bins=10, figsize=(20,15))\n",
    "plt.show()"
   ]
  },
  {
   "cell_type": "markdown",
   "metadata": {
    "_uuid": "23b469dcd56da06902d1946505d95c28dbf7e510"
   },
   "source": [
    "# Data Preperation\n",
    "\n",
    "As it  can be seen from Data Preprocessing section above, graduate admission data is only include numerical variables. Hence, only the following steps should be implemented before model devolopment:\n",
    "\n",
    "* The outcome variable is 'chance', and all other features are predictors.\n",
    "* 'no' variable should be dropped from dataset since it only indicator of the instances (means ID Column)"
   ]
  },
  {
   "cell_type": "code",
   "execution_count": 14,
   "metadata": {},
   "outputs": [
    {
     "data": {
      "text/plain": [
       "no            int64\n",
       "gre           int64\n",
       "toefl         int64\n",
       "rating        int64\n",
       "sop         float64\n",
       "lor         float64\n",
       "gpa         float64\n",
       "research      int64\n",
       "chance      float64\n",
       "dtype: object"
      ]
     },
     "execution_count": 14,
     "metadata": {},
     "output_type": "execute_result"
    }
   ],
   "source": [
    "df.dtypes"
   ]
  },
  {
   "cell_type": "code",
   "execution_count": 15,
   "metadata": {
    "_kg_hide-output": false,
    "_uuid": "39e46a424c2f178be71667017a359d9e79d5a6e5"
   },
   "outputs": [],
   "source": [
    "df.drop(['no'],axis=1,inplace=True)\n",
    "var=df.columns.values.tolist()\n",
    "y=df['chance']\n",
    "x=[i for i in var if i not in ['chance']]\n",
    "x=df[x]"
   ]
  },
  {
   "cell_type": "markdown",
   "metadata": {
    "_uuid": "ae0ea248bc976fb13cd0891aa4354245209489a3"
   },
   "source": [
    "Data will be splitted using train_test_split module of scikitlearn library where splitting ratio is chosen as 20% for test data."
   ]
  },
  {
   "cell_type": "code",
   "execution_count": 16,
   "metadata": {
    "_uuid": "36e4475a07be6f06f46253836ed292286f6e41d9"
   },
   "outputs": [],
   "source": [
    "from sklearn.model_selection import train_test_split\n",
    "x_train,x_test,y_train,y_test=train_test_split(x,y,test_size=0.2, random_state=0)"
   ]
  },
  {
   "cell_type": "markdown",
   "metadata": {
    "_uuid": "74773737cf10246ea745f7b4e6dcc0c596351b7f"
   },
   "source": [
    "Data normalization is important in order to represent data in comparable scales. "
   ]
  },
  {
   "cell_type": "code",
   "execution_count": 17,
   "metadata": {
    "_uuid": "3783501a27e412f8a814d232c7e62c1eb3800341"
   },
   "outputs": [
    {
     "name": "stderr",
     "output_type": "stream",
     "text": [
      "C:\\Users\\EnergyWin\\Anaconda\\lib\\site-packages\\sklearn\\preprocessing\\data.py:334: DataConversionWarning: Data with input dtype int64, float64 were all converted to float64 by MinMaxScaler.\n",
      "  return self.partial_fit(X, y)\n",
      "C:\\Users\\EnergyWin\\Anaconda\\lib\\site-packages\\ipykernel_launcher.py:3: SettingWithCopyWarning: \n",
      "A value is trying to be set on a copy of a slice from a DataFrame.\n",
      "Try using .loc[row_indexer,col_indexer] = value instead\n",
      "\n",
      "See the caveats in the documentation: http://pandas.pydata.org/pandas-docs/stable/indexing.html#indexing-view-versus-copy\n",
      "  This is separate from the ipykernel package so we can avoid doing imports until\n",
      "C:\\Users\\EnergyWin\\Anaconda\\lib\\site-packages\\pandas\\core\\indexing.py:543: SettingWithCopyWarning: \n",
      "A value is trying to be set on a copy of a slice from a DataFrame.\n",
      "Try using .loc[row_indexer,col_indexer] = value instead\n",
      "\n",
      "See the caveats in the documentation: http://pandas.pydata.org/pandas-docs/stable/indexing.html#indexing-view-versus-copy\n",
      "  self.obj[item] = s\n",
      "C:\\Users\\EnergyWin\\Anaconda\\lib\\site-packages\\ipykernel_launcher.py:4: SettingWithCopyWarning: \n",
      "A value is trying to be set on a copy of a slice from a DataFrame.\n",
      "Try using .loc[row_indexer,col_indexer] = value instead\n",
      "\n",
      "See the caveats in the documentation: http://pandas.pydata.org/pandas-docs/stable/indexing.html#indexing-view-versus-copy\n",
      "  after removing the cwd from sys.path.\n",
      "C:\\Users\\EnergyWin\\Anaconda\\lib\\site-packages\\pandas\\core\\indexing.py:543: SettingWithCopyWarning: \n",
      "A value is trying to be set on a copy of a slice from a DataFrame.\n",
      "Try using .loc[row_indexer,col_indexer] = value instead\n",
      "\n",
      "See the caveats in the documentation: http://pandas.pydata.org/pandas-docs/stable/indexing.html#indexing-view-versus-copy\n",
      "  self.obj[item] = s\n"
     ]
    }
   ],
   "source": [
    "from sklearn.preprocessing import MinMaxScaler\n",
    "xs=MinMaxScaler()\n",
    "x_train[x_train.columns] = xs.fit_transform(x_train[x_train.columns])\n",
    "x_test[x_test.columns] = xs.transform(x_test[x_test.columns])"
   ]
  },
  {
   "cell_type": "markdown",
   "metadata": {},
   "source": [
    "**MIN - MAX Scaler**\n",
    "its Better use always the Scaler methods to improve the Accuracy  "
   ]
  },
  {
   "cell_type": "markdown",
   "metadata": {
    "_uuid": "bad384690d4df0d9118f9d0561fcc2fd200a1666"
   },
   "source": [
    "# Classification Models & Furher Analysis\n",
    "\n",
    "In order to make classification models, outcome of the classification is defined as 'status' which takes value of True for the applicants that have more than 83% chance. Third quartile, 83%, is chosen as threshold since median of the chance data, 72%, is pretty high."
   ]
  },
  {
   "cell_type": "code",
   "execution_count": 18,
   "metadata": {
    "_uuid": "b4de0373f97ce703d1e6715058ec9459edac3ae0"
   },
   "outputs": [],
   "source": [
    "import numpy as np\n",
    "cy_train=[1 if chance > 0.83 else 0 for chance in y_train]\n",
    "cy_train=np.array(cy_train)\n",
    "\n",
    "cy_test=[1 if chance > 0.83 else 0 for chance in y_test]\n",
    "cy_test=np.array(cy_test)\n",
    "\n"
   ]
  },
  {
   "cell_type": "markdown",
   "metadata": {
    "_uuid": "77244c82a9873780871b02553a3a3a6882965bb1"
   },
   "source": [
    "## Logistic Regression"
   ]
  },
  {
   "cell_type": "code",
   "execution_count": 19,
   "metadata": {
    "_uuid": "0f8de8c3aa061125290d1147503e9759d1f53d50"
   },
   "outputs": [
    {
     "name": "stderr",
     "output_type": "stream",
     "text": [
      "C:\\Users\\EnergyWin\\Anaconda\\lib\\site-packages\\sklearn\\linear_model\\logistic.py:433: FutureWarning: Default solver will be changed to 'lbfgs' in 0.22. Specify a solver to silence this warning.\n",
      "  FutureWarning)\n"
     ]
    },
    {
     "name": "stdout",
     "output_type": "stream",
     "text": [
      "Logistic regression accuracy: 0.970\n",
      "--------------------------------------\n",
      "              precision    recall  f1-score   support\n",
      "\n",
      "           0       0.98      0.99      0.98        80\n",
      "           1       0.95      0.90      0.92        20\n",
      "\n",
      "   micro avg       0.97      0.97      0.97       100\n",
      "   macro avg       0.96      0.94      0.95       100\n",
      "weighted avg       0.97      0.97      0.97       100\n",
      "\n"
     ]
    },
    {
     "data": {
      "image/png": "[encoded data removed]",
      "text/plain": [
       "<Figure size 432x288 with 2 Axes>"
      ]
     },
     "metadata": {},
     "output_type": "display_data"
    }
   ],
   "source": [
    "# Fitting logistic regression model\n",
    "from sklearn.linear_model import LogisticRegression\n",
    "lr = LogisticRegression()\n",
    "lr.fit(x_train, cy_train)\n",
    "\n",
    "\n",
    "# Printing accuracy score & confusion matrix\n",
    "from sklearn.metrics import accuracy_score\n",
    "print('Logistic regression accuracy: {:.3f}'.format(accuracy_score(cy_test, lr.predict(x_test))))\n",
    "print('--------------------------------------')\n",
    "from sklearn.metrics import classification_report\n",
    "print(classification_report(cy_test, lr.predict(x_test)))\n",
    "\n",
    "cy = lr.predict(x_test)\n",
    "from sklearn.metrics import confusion_matrix\n",
    "import seaborn as sns\n",
    "lr_confm = confusion_matrix(cy, cy_test, [1,0])\n",
    "sns.heatmap(lr_confm, annot=True, fmt='.2f',xticklabels = [\"Admitted\", \"Rejected\"] , yticklabels = [\"Admitted\", \"Rejected\"] )\n",
    "plt.ylabel('Actual Class')\n",
    "plt.xlabel('Predicted Class')\n",
    "plt.title('Logistic Regression')\n",
    "plt.show()"
   ]
  },
  {
   "cell_type": "markdown",
   "metadata": {
    "_uuid": "da6295c31680d9fb889ba051aebb0e5f507e8542"
   },
   "source": [
    "## Random Forest"
   ]
  },
  {
   "cell_type": "code",
   "execution_count": 20,
   "metadata": {
    "_uuid": "cc6d5c9ffac0defc5e8738300b037016df08cbc2"
   },
   "outputs": [
    {
     "name": "stderr",
     "output_type": "stream",
     "text": [
      "C:\\Users\\EnergyWin\\Anaconda\\lib\\site-packages\\sklearn\\ensemble\\forest.py:246: FutureWarning: The default value of n_estimators will change from 10 in version 0.20 to 100 in 0.22.\n",
      "  \"10 in version 0.20 to 100 in 0.22.\", FutureWarning)\n"
     ]
    },
    {
     "name": "stdout",
     "output_type": "stream",
     "text": [
      "Random Forest Accuracy: 0.960\n",
      "--------------------------------------\n",
      "              precision    recall  f1-score   support\n",
      "\n",
      "           0       0.96      0.99      0.98        80\n",
      "           1       0.94      0.85      0.89        20\n",
      "\n",
      "   micro avg       0.96      0.96      0.96       100\n",
      "   macro avg       0.95      0.92      0.94       100\n",
      "weighted avg       0.96      0.96      0.96       100\n",
      "\n"
     ]
    },
    {
     "data": {
      "image/png": "[encoded data removed]",
      "text/plain": [
       "<Figure size 432x288 with 2 Axes>"
      ]
     },
     "metadata": {},
     "output_type": "display_data"
    }
   ],
   "source": [
    "# Fitting random forest model\n",
    "from sklearn.ensemble import RandomForestClassifier\n",
    "rf = RandomForestClassifier()\n",
    "rf.fit(x_train, cy_train)\n",
    "\n",
    "# Printing accuracy score & confusion matrix\n",
    "print('Random Forest Accuracy: {:.3f}'.format(accuracy_score(cy_test, rf.predict(x_test))))\n",
    "print('--------------------------------------')\n",
    "print(classification_report(cy_test, rf.predict(x_test)))\n",
    "\n",
    "cy = rf.predict(x_test)\n",
    "rf_confm = confusion_matrix(cy, cy_test, [1,0])\n",
    "sns.heatmap(rf_confm, annot=True, fmt='.2f',xticklabels = [\"Admitted\", \"Rejected\"] , yticklabels = [\"Admitted\", \"Rejected\"] )\n",
    "plt.ylabel('True class')\n",
    "plt.xlabel('Predicted class')\n",
    "plt.title('Random Forest')\n",
    "plt.show()"
   ]
  },
  {
   "cell_type": "markdown",
   "metadata": {
    "_uuid": "33783c017127621700dede9edaa3db839599d77d"
   },
   "source": [
    "## Support Vector Machine"
   ]
  },
  {
   "cell_type": "code",
   "execution_count": 21,
   "metadata": {
    "_uuid": "2b367c4bf9acb297bebf1b4775863791f5d26e26"
   },
   "outputs": [
    {
     "name": "stderr",
     "output_type": "stream",
     "text": [
      "C:\\Users\\EnergyWin\\Anaconda\\lib\\site-packages\\sklearn\\svm\\base.py:196: FutureWarning: The default value of gamma will change from 'auto' to 'scale' in version 0.22 to account better for unscaled features. Set gamma explicitly to 'auto' or 'scale' to avoid this warning.\n",
      "  \"avoid this warning.\", FutureWarning)\n"
     ]
    },
    {
     "name": "stdout",
     "output_type": "stream",
     "text": [
      "Support vector machine accuracy: 0.960\n",
      "--------------------------------------\n",
      "              precision    recall  f1-score   support\n",
      "\n",
      "           0       0.97      0.97      0.97        80\n",
      "           1       0.90      0.90      0.90        20\n",
      "\n",
      "   micro avg       0.96      0.96      0.96       100\n",
      "   macro avg       0.94      0.94      0.94       100\n",
      "weighted avg       0.96      0.96      0.96       100\n",
      "\n"
     ]
    },
    {
     "data": {
      "image/png": "[encoded data removed]",
      "text/plain": [
       "<Figure size 432x288 with 2 Axes>"
      ]
     },
     "metadata": {},
     "output_type": "display_data"
    }
   ],
   "source": [
    "# Fitting support vector machine model\n",
    "from sklearn.svm import SVC\n",
    "svc = SVC()\n",
    "svc.fit(x_train, cy_train)\n",
    "\n",
    "# Printing accuracy score & confusion matrix\n",
    "print('Support vector machine accuracy: {:.3f}'.format(accuracy_score(cy_test, svc.predict(x_test))))\n",
    "print('--------------------------------------')\n",
    "print(classification_report(cy_test, svc.predict(x_test)))\n",
    "\n",
    "cy = svc.predict(x_test)\n",
    "svc_confm = confusion_matrix(cy, cy_test, [1,0])\n",
    "sns.heatmap(svc_confm, annot=True, fmt='.2f',xticklabels = [\"Admitted\", \"Rejected\"] , yticklabels = [\"Admitted\", \"Rejected\"] )\n",
    "plt.ylabel('True class')\n",
    "plt.xlabel('Predicted class')\n",
    "plt.title('Support Vector Machine')\n",
    "plt.show()"
   ]
  },
  {
   "cell_type": "markdown",
   "metadata": {
    "_uuid": "0f034c4f90e3a5a39565a49b675ef6aec330356d"
   },
   "source": [
    "How often does my classifier predict admitted students correctly? This measurement is called “recall” and a quick look at these diagrams can demonstrate that models ara close but logistic regression and support vector machine models are slightly better for this criteria. Out of 20 True admitted applicants, LR and SVM are correctly classified 18 of them which means the models are approximately have 90% of \"recall\".\n",
    "\n",
    "How often does my classifier predict students that will be admitted correctly? This measurement is called “precision” and Random Forest performs slightly better (17 out of 18) than other classifiers.\n",
    "\n",
    "All classifiers have the same accuracy score which is 96%.\n",
    "\n",
    "# Feature Importance for Random Forest Model"
   ]
  },
  {
   "cell_type": "markdown",
   "metadata": {
    "_uuid": "543195ecf1e1bd06274d7898ef0f14a0a563bf3f"
   },
   "source": [
    "In order to represent the most important features which influence whether an applicant is admitted in college, random forest classifier is used."
   ]
  },
  {
   "cell_type": "code",
   "execution_count": 22,
   "metadata": {
    "_uuid": "4e8338a53395cdbcf29d633693b33a2d3ef2ca84",
    "scrolled": true
   },
   "outputs": [
    {
     "name": "stdout",
     "output_type": "stream",
     "text": [
      "gpa         0.455227\n",
      "toefl       0.139709\n",
      "gre         0.131549\n",
      "rating      0.102986\n",
      "sop         0.095230\n",
      "lor         0.051671\n",
      "research    0.023627\n",
      "dtype: float64\n"
     ]
    }
   ],
   "source": [
    "f_imp=pd.Series(rf.feature_importances_,index=x_train.columns).sort_values(ascending=False)\n",
    "print(f_imp)"
   ]
  }
 ],
 "metadata": {
  "kernelspec": {
   "display_name": "Python 3",
   "language": "python",
   "name": "python3"
  },
  "language_info": {
   "codemirror_mode": {
    "name": "ipython",
    "version": 3
   },
   "file_extension": ".py",
   "mimetype": "text/x-python",
   "name": "python",
   "nbconvert_exporter": "python",
   "pygments_lexer": "ipython3",
   "version": "3.6.5"
  }
 },
 "nbformat": 4,
 "nbformat_minor": 1
}
